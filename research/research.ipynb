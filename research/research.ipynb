{
 "cells": [
  {
   "cell_type": "code",
   "execution_count": null,
   "id": "9e1d52d6",
   "metadata": {},
   "outputs": [],
   "source": [
    "example = {\"key1\": \"value2\", \"key2\": \"value2\"}\n",
    "\n"
   ]
  },
  {
   "cell_type": "code",
   "execution_count": 4,
   "id": "6379051c",
   "metadata": {},
   "outputs": [
    {
     "data": {
      "text/plain": [
       "'value2'"
      ]
     },
     "execution_count": 4,
     "metadata": {},
     "output_type": "execute_result"
    }
   ],
   "source": [
    "example[\"key1\"]"
   ]
  },
  {
   "cell_type": "code",
   "execution_count": 2,
   "id": "4ffefd9a",
   "metadata": {},
   "outputs": [
    {
     "name": "stdout",
     "output_type": "stream",
     "text": [
      "Requirement already satisfied: box in e:\\mlops\\datascienceproject2.0\\venv\\lib\\site-packages (0.1.5)\n",
      "Requirement already satisfied: aiohttp>=3.8.1 in e:\\mlops\\datascienceproject2.0\\venv\\lib\\site-packages (from box) (3.12.15)\n",
      "Requirement already satisfied: columnar==1.3.1 in e:\\mlops\\datascienceproject2.0\\venv\\lib\\site-packages (from box) (1.3.1)\n",
      "Requirement already satisfied: executing==0.8.2 in e:\\mlops\\datascienceproject2.0\\venv\\lib\\site-packages (from box) (0.8.2)\n",
      "Requirement already satisfied: loguru in e:\\mlops\\datascienceproject2.0\\venv\\lib\\site-packages (from box) (0.7.3)\n",
      "Requirement already satisfied: python-dateutil==2.8.2 in e:\\mlops\\datascienceproject2.0\\venv\\lib\\site-packages (from box) (2.8.2)\n",
      "Requirement already satisfied: timeago==1.0.14 in e:\\mlops\\datascienceproject2.0\\venv\\lib\\site-packages (from box) (1.0.14)\n",
      "Requirement already satisfied: toolz in e:\\mlops\\datascienceproject2.0\\venv\\lib\\site-packages (from columnar==1.3.1->box) (1.0.0)\n",
      "Requirement already satisfied: wcwidth in e:\\mlops\\datascienceproject2.0\\venv\\lib\\site-packages (from columnar==1.3.1->box) (0.2.13)\n",
      "Requirement already satisfied: six>=1.5 in e:\\mlops\\datascienceproject2.0\\venv\\lib\\site-packages (from python-dateutil==2.8.2->box) (1.17.0)\n",
      "Requirement already satisfied: aiohappyeyeballs>=2.5.0 in e:\\mlops\\datascienceproject2.0\\venv\\lib\\site-packages (from aiohttp>=3.8.1->box) (2.6.1)\n",
      "Requirement already satisfied: aiosignal>=1.4.0 in e:\\mlops\\datascienceproject2.0\\venv\\lib\\site-packages (from aiohttp>=3.8.1->box) (1.4.0)\n",
      "Requirement already satisfied: async-timeout<6.0,>=4.0 in e:\\mlops\\datascienceproject2.0\\venv\\lib\\site-packages (from aiohttp>=3.8.1->box) (5.0.1)\n",
      "Requirement already satisfied: attrs>=17.3.0 in e:\\mlops\\datascienceproject2.0\\venv\\lib\\site-packages (from aiohttp>=3.8.1->box) (25.3.0)\n",
      "Requirement already satisfied: frozenlist>=1.1.1 in e:\\mlops\\datascienceproject2.0\\venv\\lib\\site-packages (from aiohttp>=3.8.1->box) (1.7.0)\n",
      "Requirement already satisfied: multidict<7.0,>=4.5 in e:\\mlops\\datascienceproject2.0\\venv\\lib\\site-packages (from aiohttp>=3.8.1->box) (6.6.4)\n",
      "Requirement already satisfied: propcache>=0.2.0 in e:\\mlops\\datascienceproject2.0\\venv\\lib\\site-packages (from aiohttp>=3.8.1->box) (0.3.2)\n",
      "Requirement already satisfied: yarl<2.0,>=1.17.0 in e:\\mlops\\datascienceproject2.0\\venv\\lib\\site-packages (from aiohttp>=3.8.1->box) (1.20.1)\n",
      "Requirement already satisfied: typing-extensions>=4.1.0 in e:\\mlops\\datascienceproject2.0\\venv\\lib\\site-packages (from multidict<7.0,>=4.5->aiohttp>=3.8.1->box) (4.15.0)\n",
      "Requirement already satisfied: idna>=2.0 in e:\\mlops\\datascienceproject2.0\\venv\\lib\\site-packages (from yarl<2.0,>=1.17.0->aiohttp>=3.8.1->box) (3.10)\n",
      "Requirement already satisfied: colorama>=0.3.4 in e:\\mlops\\datascienceproject2.0\\venv\\lib\\site-packages (from loguru->box) (0.4.6)\n",
      "Requirement already satisfied: win32-setctime>=1.0.0 in e:\\mlops\\datascienceproject2.0\\venv\\lib\\site-packages (from loguru->box) (1.2.0)\n",
      "Note: you may need to restart the kernel to use updated packages.\n"
     ]
    }
   ],
   "source": [
    "%pip install box"
   ]
  },
  {
   "cell_type": "code",
   "execution_count": 1,
   "id": "f9711f4d",
   "metadata": {},
   "outputs": [],
   "source": [
    "\n",
    "from box import ConfigBox\n",
    "\n"
   ]
  },
  {
   "cell_type": "code",
   "execution_count": 5,
   "id": "09bd128d",
   "metadata": {},
   "outputs": [],
   "source": [
    "example = ConfigBox({\"key1\": \"value1\", \"key2\": \"value2\"})"
   ]
  },
  {
   "cell_type": "code",
   "execution_count": 6,
   "id": "63f4e581",
   "metadata": {},
   "outputs": [
    {
     "data": {
      "text/plain": [
       "'value1'"
      ]
     },
     "execution_count": 6,
     "metadata": {},
     "output_type": "execute_result"
    }
   ],
   "source": [
    "example.key1"
   ]
  },
  {
   "cell_type": "code",
   "execution_count": 7,
   "id": "a28d9e3c",
   "metadata": {},
   "outputs": [],
   "source": [
    "# Explanation if for ensure annotation\n",
    "\n",
    "def get_product(x: int, y: int) -> int:\n",
    "    return x * y"
   ]
  },
  {
   "cell_type": "code",
   "execution_count": 8,
   "id": "dfde7fdf",
   "metadata": {},
   "outputs": [
    {
     "data": {
      "text/plain": [
       "6"
      ]
     },
     "execution_count": 8,
     "metadata": {},
     "output_type": "execute_result"
    }
   ],
   "source": [
    "get_product(2, 3)"
   ]
  },
  {
   "cell_type": "code",
   "execution_count": 9,
   "id": "5f8f68cd",
   "metadata": {},
   "outputs": [
    {
     "data": {
      "text/plain": [
       "'33'"
      ]
     },
     "execution_count": 9,
     "metadata": {},
     "output_type": "execute_result"
    }
   ],
   "source": [
    "get_product(2, \"3\")"
   ]
  },
  {
   "cell_type": "code",
   "execution_count": 10,
   "id": "3b1d17b1",
   "metadata": {},
   "outputs": [],
   "source": [
    "from ensure import ensure_annotations\n",
    "\n",
    "\n",
    "@ensure_annotations\n",
    "\n",
    "def get_product(x: int, y: int) -> int:\n",
    "    return x * y"
   ]
  },
  {
   "cell_type": "code",
   "execution_count": 12,
   "id": "1df0e381",
   "metadata": {},
   "outputs": [
    {
     "name": "stdout",
     "output_type": "stream",
     "text": [
      "Unexpected exception formatting exception. Falling back to standard exception\n"
     ]
    },
    {
     "name": "stderr",
     "output_type": "stream",
     "text": [
      "Traceback (most recent call last):\n",
      "  File \"e:\\MLOps\\DataScienceProject2.0\\venv\\lib\\site-packages\\IPython\\core\\interactiveshell.py\", line 3579, in run_code\n",
      "    exec(code_obj, self.user_global_ns, self.user_ns)\n",
      "  File \"C:\\Users\\hp\\AppData\\Local\\Temp\\ipykernel_27124\\1949580471.py\", line 1, in <module>\n",
      "    get_product(2, \"3\")\n",
      "  File \"e:\\MLOps\\DataScienceProject2.0\\venv\\lib\\site-packages\\ensure\\main.py\", line 870, in __call__\n",
      "    raise EnsureError(msg.format(arg=arg, f=self.f, t=templ, valt=type(value)))\n",
      "ensure.main.EnsureError: Argument y of type <class 'str'> to <function get_product at 0x0000021704974700> does not match annotation type <class 'int'>\n",
      "\n",
      "During handling of the above exception, another exception occurred:\n",
      "\n",
      "Traceback (most recent call last):\n",
      "  File \"e:\\MLOps\\DataScienceProject2.0\\venv\\lib\\site-packages\\IPython\\core\\interactiveshell.py\", line 2170, in showtraceback\n",
      "    stb = self.InteractiveTB.structured_traceback(\n",
      "  File \"e:\\MLOps\\DataScienceProject2.0\\venv\\lib\\site-packages\\IPython\\core\\ultratb.py\", line 1457, in structured_traceback\n",
      "    return FormattedTB.structured_traceback(\n",
      "  File \"e:\\MLOps\\DataScienceProject2.0\\venv\\lib\\site-packages\\IPython\\core\\ultratb.py\", line 1348, in structured_traceback\n",
      "    return VerboseTB.structured_traceback(\n",
      "  File \"e:\\MLOps\\DataScienceProject2.0\\venv\\lib\\site-packages\\IPython\\core\\ultratb.py\", line 1195, in structured_traceback\n",
      "    formatted_exception = self.format_exception_as_a_whole(etype, evalue, etb, number_of_lines_of_context,\n",
      "  File \"e:\\MLOps\\DataScienceProject2.0\\venv\\lib\\site-packages\\IPython\\core\\ultratb.py\", line 1110, in format_exception_as_a_whole\n",
      "    frames.append(self.format_record(record))\n",
      "  File \"e:\\MLOps\\DataScienceProject2.0\\venv\\lib\\site-packages\\IPython\\core\\ultratb.py\", line 992, in format_record\n",
      "    frame_info.lines, Colors, self.has_colors, lvals\n",
      "  File \"e:\\MLOps\\DataScienceProject2.0\\venv\\lib\\site-packages\\IPython\\core\\ultratb.py\", line 804, in lines\n",
      "    return self._sd.lines\n",
      "  File \"e:\\MLOps\\DataScienceProject2.0\\venv\\lib\\site-packages\\stack_data\\utils.py\", line 145, in cached_property_wrapper\n",
      "    value = obj.__dict__[self.func.__name__] = self.func(obj)\n",
      "  File \"e:\\MLOps\\DataScienceProject2.0\\venv\\lib\\site-packages\\stack_data\\core.py\", line 734, in lines\n",
      "    pieces = self.included_pieces\n",
      "  File \"e:\\MLOps\\DataScienceProject2.0\\venv\\lib\\site-packages\\stack_data\\utils.py\", line 145, in cached_property_wrapper\n",
      "    value = obj.__dict__[self.func.__name__] = self.func(obj)\n",
      "  File \"e:\\MLOps\\DataScienceProject2.0\\venv\\lib\\site-packages\\stack_data\\core.py\", line 677, in included_pieces\n",
      "    scope_pieces = self.scope_pieces\n",
      "  File \"e:\\MLOps\\DataScienceProject2.0\\venv\\lib\\site-packages\\stack_data\\utils.py\", line 145, in cached_property_wrapper\n",
      "    value = obj.__dict__[self.func.__name__] = self.func(obj)\n",
      "  File \"e:\\MLOps\\DataScienceProject2.0\\venv\\lib\\site-packages\\stack_data\\core.py\", line 614, in scope_pieces\n",
      "    scope_start, scope_end = self.source.line_range(self.scope)\n",
      "  File \"e:\\MLOps\\DataScienceProject2.0\\venv\\lib\\site-packages\\stack_data\\core.py\", line 178, in line_range\n",
      "    return line_range(self.asttext(), node)\n",
      "AttributeError: 'Source' object has no attribute 'asttext'\n"
     ]
    }
   ],
   "source": [
    "get_product(2, \"3\")"
   ]
  },
  {
   "cell_type": "code",
   "execution_count": null,
   "id": "97f80fe6",
   "metadata": {},
   "outputs": [],
   "source": []
  }
 ],
 "metadata": {
  "kernelspec": {
   "display_name": "Python 3",
   "language": "python",
   "name": "python3"
  },
  "language_info": {
   "codemirror_mode": {
    "name": "ipython",
    "version": 3
   },
   "file_extension": ".py",
   "mimetype": "text/x-python",
   "name": "python",
   "nbconvert_exporter": "python",
   "pygments_lexer": "ipython3",
   "version": "3.10.18"
  }
 },
 "nbformat": 4,
 "nbformat_minor": 5
}
