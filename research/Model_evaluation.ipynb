{
 "cells": [
  {
   "cell_type": "code",
   "execution_count": 2,
   "id": "c70551f9",
   "metadata": {},
   "outputs": [],
   "source": [
    "import os\n",
    "from dotenv import load_dotenv\n",
    "\n",
    "load_dotenv()\n",
    "\n",
    "os.environ[\"MLFLOW_TRACKING_URI\"] = os.getenv(\"MLFLOW_TRACKING_URI\")\n",
    "os.environ[\"MLFLOW_TRACKING_USERNAME\"] = os.getenv(\"MLFLOW_TRACKING_USERNAME\")\n",
    "os.environ[\"MLFLOW_TRACKING_PASSWORD\"] = os.getenv(\"MLFLOW_TRACKING_PASSWORD\")"
   ]
  },
  {
   "cell_type": "code",
   "execution_count": 3,
   "id": "a9685614",
   "metadata": {},
   "outputs": [],
   "source": [
    "import os\n",
    "os.chdir(\"e:/MLOps/DataScienceProject2.0\")"
   ]
  },
  {
   "cell_type": "code",
   "execution_count": 4,
   "id": "04a33a77",
   "metadata": {},
   "outputs": [],
   "source": [
    "from dataclasses import dataclass   \n",
    "from pathlib import Path\n",
    "\n",
    "@dataclass\n",
    "class ModelEvaluationConfig:\n",
    "    root_dir: Path\n",
    "    test_data_path: Path\n",
    "    model_path: Path\n",
    "    all_params: dict\n",
    "    metric_file_name: Path\n",
    "    target_column: str\n",
    "    mlflow_uri: str"
   ]
  },
  {
   "cell_type": "code",
   "execution_count": 5,
   "id": "4c9a12ec",
   "metadata": {},
   "outputs": [],
   "source": [
    "from src.DataScienceProject.constants import *\n",
    "from src.DataScienceProject.utils.common import read_yaml, create_directories, save_json"
   ]
  },
  {
   "cell_type": "code",
   "execution_count": 6,
   "id": "7a8cef74",
   "metadata": {},
   "outputs": [],
   "source": [
    "class ConfigurationManager:\n",
    "    def __init__(self, config_filepath = CONFIG_FILE_PATH, params_filepath = PARAMS_FILE_PATH, schema_filepath = SCHEMA_FILE_PATH):\n",
    "        self.config = read_yaml(config_filepath)\n",
    "        self.params = read_yaml(params_filepath)\n",
    "        self.schema = read_yaml(schema_filepath)\n",
    "        \n",
    "        create_directories([self.config.artifacts_root])\n",
    "        \n",
    "    def get_model_evaluation_config(self) -> ModelEvaluationConfig:\n",
    "        config = self.config.model_evaluation\n",
    "        params = self.params.ElasticNet\n",
    "        schema = self.schema.TARGET_COLUMN\n",
    "        \n",
    "        \n",
    "        create_directories([config.root_dir])\n",
    "        \n",
    "        model_evaluation_config = ModelEvaluationConfig(\n",
    "            root_dir=config.root_dir,\n",
    "            test_data_path=config.test_data_path,\n",
    "            model_path=config.model_path,\n",
    "            all_params=params,\n",
    "            metric_file_name=config.metric_file_name,\n",
    "            target_column=schema.name,\n",
    "            mlflow_uri=os.getenv(\"MLFLOW_TRACKING_URI\")\n",
    "        )\n",
    "    \n",
    "        return model_evaluation_config"
   ]
  },
  {
   "cell_type": "code",
   "execution_count": 7,
   "id": "ff823572",
   "metadata": {},
   "outputs": [],
   "source": [
    "import os\n",
    "import pandas as pd\n",
    "from sklearn.metrics import mean_squared_error, mean_absolute_error, r2_score\n",
    "from urllib.parse import urlparse\n",
    "import mlflow\n",
    "import mlflow.sklearn\n",
    "import numpy as np\n",
    "import joblib"
   ]
  },
  {
   "cell_type": "code",
   "execution_count": 8,
   "id": "500ac75d",
   "metadata": {},
   "outputs": [],
   "source": [
    "class ModelEvaluation:\n",
    "    def __init__ (self, config: ModelEvaluationConfig):\n",
    "        self.config = config\n",
    "        \n",
    "    \n",
    "    def eval_metrics(self, actual, pred):\n",
    "        rmse = np.sqrt(mean_squared_error(actual,pred))\n",
    "        mae = mean_absolute_error(actual,pred)\n",
    "        r2 = r2_score(actual,pred)\n",
    "        return rmse, mae, r2\n",
    "    \n",
    "    def log_into_mlflow(self):\n",
    "        \n",
    "        test_data = pd.read_csv(self.config.test_data_path)\n",
    "        model = joblib.load(self.config.model_path)\n",
    "        \n",
    "        test_x = test_data.drop([self.config.target_column], axis=1)\n",
    "        test_y = test_data[[self.config.target_column]]\n",
    "        \n",
    "        mlflow.set_tracking_uri(self.config.mlflow_uri) \n",
    "        tracking_url_type_store = urlparse(mlflow.get_tracking_uri()).scheme    \n",
    "        \n",
    "        with mlflow.start_run():\n",
    "            \n",
    "            predicted_qualities = model.predict(test_x)\n",
    "            (rmse, mae, r2) = self.eval_metrics(test_y, predicted_qualities)\n",
    "            \n",
    "            scores = {\"rmse\":rmse, \"mae\":mae, \"r2\": r2}\n",
    "            \n",
    "            save_json(path = Path(self.config.metric_file_name), data=scores)\n",
    "            \n",
    "            mlflow.log_params(self.config.all_params)\n",
    "            \n",
    "            mlflow.log_metric(\"rmse\",rmse)\n",
    "            mlflow.log_metric(\"mae\",mae)\n",
    "            mlflow.log_metric(\"r2\",r2)\n",
    "            \n",
    "            if tracking_url_type_store != \"file\":\n",
    "                mlflow.sklearn.log_model(model, \"model\", registered_model_name=\"ElasticnetWineModel\")\n",
    "            else:\n",
    "                mlflow.sklearn.log_model(model, \"model\")"
   ]
  },
  {
   "cell_type": "code",
   "execution_count": 9,
   "id": "cf18cdb2",
   "metadata": {},
   "outputs": [
    {
     "name": "stdout",
     "output_type": "stream",
     "text": [
      "[2025-09-03 21:34:52,430: INFO: common : yaml file: config\\config.yml loaded successfully]\n",
      "[2025-09-03 21:34:52,459: INFO: common : yaml file: params.yml loaded successfully]\n",
      "[2025-09-03 21:34:52,468: INFO: common : yaml file: schema.yml loaded successfully]\n",
      "[2025-09-03 21:34:52,478: INFO: common : created directory at : artifacts]\n",
      "[2025-09-03 21:34:52,481: INFO: common : created directory at : artifacts/model_evaluation]\n",
      "[2025-09-03 21:34:52,459: INFO: common : yaml file: params.yml loaded successfully]\n",
      "[2025-09-03 21:34:52,468: INFO: common : yaml file: schema.yml loaded successfully]\n",
      "[2025-09-03 21:34:52,478: INFO: common : created directory at : artifacts]\n",
      "[2025-09-03 21:34:52,481: INFO: common : created directory at : artifacts/model_evaluation]\n"
     ]
    },
    {
     "name": "stdout",
     "output_type": "stream",
     "text": [
      "[2025-09-03 21:34:57,197: INFO: common : json file saved at : artifacts\\model_evaluation\\metric.json]\n"
     ]
    },
    {
     "name": "stderr",
     "output_type": "stream",
     "text": [
      "2025/09/03 21:35:12 WARNING mlflow.models.model: Model logged without a signature and input example. Please set `input_example` parameter when logging the model to auto infer the model signature.\n",
      "Successfully registered model 'ElasticnetWineModel'.\n",
      "Successfully registered model 'ElasticnetWineModel'.\n",
      "2025/09/03 21:35:28 INFO mlflow.store.model_registry.abstract_store: Waiting up to 300 seconds for model version to finish creation. Model name: ElasticnetWineModel, version 1\n",
      "2025/09/03 21:35:28 INFO mlflow.store.model_registry.abstract_store: Waiting up to 300 seconds for model version to finish creation. Model name: ElasticnetWineModel, version 1\n",
      "Created version '1' of model 'ElasticnetWineModel'.\n",
      "Created version '1' of model 'ElasticnetWineModel'.\n"
     ]
    },
    {
     "name": "stdout",
     "output_type": "stream",
     "text": [
      "🏃 View run bustling-koi-119 at: https://dagshub.com/shashwatsingh0511/DataScienceProject2.0.mlflow/#/experiments/0/runs/47dd2e7ab2464782a1850a7bb5cd8135\n",
      "🧪 View experiment at: https://dagshub.com/shashwatsingh0511/DataScienceProject2.0.mlflow/#/experiments/0\n"
     ]
    }
   ],
   "source": [
    "try:\n",
    "    config = ConfigurationManager()\n",
    "    model_eval_config = config.get_model_evaluation_config()\n",
    "    \n",
    "    model_evaluation = ModelEvaluation(config=model_eval_config)\n",
    "    model_evaluation.log_into_mlflow()\n",
    "except Exception as e:\n",
    "    raise e"
   ]
  },
  {
   "cell_type": "code",
   "execution_count": null,
   "id": "ea27c0df",
   "metadata": {},
   "outputs": [],
   "source": []
  }
 ],
 "metadata": {
  "kernelspec": {
   "display_name": "Python 3",
   "language": "python",
   "name": "python3"
  },
  "language_info": {
   "codemirror_mode": {
    "name": "ipython",
    "version": 3
   },
   "file_extension": ".py",
   "mimetype": "text/x-python",
   "name": "python",
   "nbconvert_exporter": "python",
   "pygments_lexer": "ipython3",
   "version": "3.10.18"
  }
 },
 "nbformat": 4,
 "nbformat_minor": 5
}
