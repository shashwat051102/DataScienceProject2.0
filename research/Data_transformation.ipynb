{
 "cells": [
  {
   "cell_type": "code",
   "execution_count": 1,
   "id": "80b3c466",
   "metadata": {},
   "outputs": [],
   "source": [
    "import os"
   ]
  },
  {
   "cell_type": "code",
   "execution_count": 2,
   "id": "229bec94",
   "metadata": {},
   "outputs": [],
   "source": [
    "os.chdir(\"e:/MLOps/DataScienceProject2.0\")"
   ]
  },
  {
   "cell_type": "code",
   "execution_count": 3,
   "id": "cffeadb7",
   "metadata": {},
   "outputs": [
    {
     "data": {
      "text/plain": [
       "'e:\\\\MLOps\\\\DataScienceProject2.0'"
      ]
     },
     "execution_count": 3,
     "metadata": {},
     "output_type": "execute_result"
    }
   ],
   "source": [
    "%pwd"
   ]
  },
  {
   "cell_type": "code",
   "execution_count": 4,
   "id": "3283f694",
   "metadata": {},
   "outputs": [],
   "source": [
    "from dataclasses import dataclass\n",
    "from pathlib import Path\n",
    "\n",
    "\n",
    "@dataclass\n",
    "class DataTransformationConfig:\n",
    "    root_dir: Path\n",
    "    data_path: Path\n",
    "\n"
   ]
  },
  {
   "cell_type": "code",
   "execution_count": 5,
   "id": "0200d3e9",
   "metadata": {},
   "outputs": [],
   "source": [
    "from src.DataScienceProject.constants import *\n",
    "from src.DataScienceProject.utils.common import read_yaml, create_directories"
   ]
  },
  {
   "cell_type": "code",
   "execution_count": 6,
   "id": "92710dc1",
   "metadata": {},
   "outputs": [],
   "source": [
    "class ConfigurationManager:\n",
    "    def __init__(self,config_filepath=CONFIG_FILE_PATH,params_filepath=PARAMS_FILE_PATH,schema_filepath=SCHEMA_FILE_PATH):\n",
    "        \n",
    "        self.config = read_yaml(config_filepath)\n",
    "        self.params = read_yaml(params_filepath)\n",
    "        self.schema = read_yaml(schema_filepath)\n",
    "        \n",
    "        create_directories([self.config.artifacts_root])\n",
    "        \n",
    "        \n",
    "    def get_data_transformation_config(self) -> DataTransformationConfig:\n",
    "        config = self.config.data_transformation\n",
    "        create_directories([config.root_dir])\n",
    "        \n",
    "        data_transformation_config = DataTransformationConfig(\n",
    "            root_dir = config.root_dir,\n",
    "            data_path = config.data_path\n",
    "        )\n",
    "        \n",
    "        return data_transformation_config"
   ]
  },
  {
   "cell_type": "code",
   "execution_count": 7,
   "id": "8e5b1366",
   "metadata": {},
   "outputs": [],
   "source": [
    "import os\n",
    "from src.DataScienceProject import logger\n",
    "from sklearn.model_selection import train_test_split\n",
    "import pandas as pd"
   ]
  },
  {
   "cell_type": "code",
   "execution_count": 8,
   "id": "eed6ce6a",
   "metadata": {},
   "outputs": [],
   "source": [
    "class DataTransformation:\n",
    "    def __init__(self, config: DataTransformationConfig):\n",
    "        self.config = config\n",
    "        \n",
    "    # Note you can add different data transformation techniques such as Scaler, PCA and all\n",
    "    \n",
    "    def train_test_splitting(self):\n",
    "        # Read CSV with semicolon separator (like your wine dataset)\n",
    "        data = pd.read_csv(self.config.data_path, sep=';')\n",
    "        \n",
    "        # Split the data into train and test sets\n",
    "        train, test = train_test_split(data, test_size=0.2, random_state=42)\n",
    "        \n",
    "        train.to_csv(os.path.join(self.config.root_dir, \"train.csv\"), index=False)\n",
    "        test.to_csv(os.path.join(self.config.root_dir, \"test.csv\"), index=False)\n",
    "        \n",
    "        logger.info(\"Splitted data into training and test sets\")\n",
    "        logger.info(f\"Train shape: {train.shape}\")\n",
    "        logger.info(f\"Test shape: {test.shape}\")\n",
    "        \n",
    "        print(f\"Train shape: {train.shape}\")            \n",
    "        print(f\"Test shape: {test.shape}\")"
   ]
  },
  {
   "cell_type": "code",
   "execution_count": 9,
   "id": "7781305c",
   "metadata": {},
   "outputs": [
    {
     "name": "stdout",
     "output_type": "stream",
     "text": [
      "[2025-09-01 23:44:54,063: INFO: common : yaml file: config\\config.yml loaded successfully]\n",
      "[2025-09-01 23:44:54,066: INFO: common : yaml file: params.yml loaded successfully]\n",
      "[2025-09-01 23:44:54,066: INFO: common : yaml file: params.yml loaded successfully]\n",
      "[2025-09-01 23:44:54,071: INFO: common : yaml file: schema.yml loaded successfully]\n",
      "[2025-09-01 23:44:54,073: INFO: common : created directory at : artifacts]\n",
      "[2025-09-01 23:44:54,074: INFO: common : created directory at : artifacts/data_transformation]\n",
      "[2025-09-01 23:44:54,071: INFO: common : yaml file: schema.yml loaded successfully]\n",
      "[2025-09-01 23:44:54,073: INFO: common : created directory at : artifacts]\n",
      "[2025-09-01 23:44:54,074: INFO: common : created directory at : artifacts/data_transformation]\n",
      "[2025-09-01 23:44:54,121: INFO: 1279874004 : Splitted data into training and test sets]\n",
      "[2025-09-01 23:44:54,122: INFO: 1279874004 : Train shape: (1279, 12)]\n",
      "[2025-09-01 23:44:54,122: INFO: 1279874004 : Test shape: (320, 12)]\n",
      "Train shape: (1279, 12)\n",
      "Test shape: (320, 12)\n",
      "[2025-09-01 23:44:54,121: INFO: 1279874004 : Splitted data into training and test sets]\n",
      "[2025-09-01 23:44:54,122: INFO: 1279874004 : Train shape: (1279, 12)]\n",
      "[2025-09-01 23:44:54,122: INFO: 1279874004 : Test shape: (320, 12)]\n",
      "Train shape: (1279, 12)\n",
      "Test shape: (320, 12)\n"
     ]
    }
   ],
   "source": [
    "try:\n",
    "    config = ConfigurationManager()\n",
    "    data_transformation_config = config.get_data_transformation_config()\n",
    "    data_transformation = DataTransformation(config=data_transformation_config)\n",
    "    data_transformation.train_test_splitting()\n",
    "except Exception as e:\n",
    "    raise e"
   ]
  },
  {
   "cell_type": "code",
   "execution_count": null,
   "id": "854e9d16",
   "metadata": {},
   "outputs": [],
   "source": []
  }
 ],
 "metadata": {
  "kernelspec": {
   "display_name": "Python 3",
   "language": "python",
   "name": "python3"
  },
  "language_info": {
   "codemirror_mode": {
    "name": "ipython",
    "version": 3
   },
   "file_extension": ".py",
   "mimetype": "text/x-python",
   "name": "python",
   "nbconvert_exporter": "python",
   "pygments_lexer": "ipython3",
   "version": "3.10.18"
  }
 },
 "nbformat": 4,
 "nbformat_minor": 5
}
